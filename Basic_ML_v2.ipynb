{
 "cells": [
  {
   "cell_type": "code",
   "execution_count": 1,
   "metadata": {},
   "outputs": [],
   "source": [
    "import numpy as np # linear algebra\n",
    "import pandas as pd # data processing, CSV file I/O (e.g. pd.read_csv)\n",
    "\n",
    "# Input data files are available in the read-only \"../input/\" directory\n",
    "# For example, running this (by clicking run or pressing Shift+Enter) will list all files under the input directory\n",
    "\n",
    "import os\n",
    "\n",
    "import seaborn as sb\n",
    "sb.set_style('darkgrid')\n",
    "\n",
    "from glob import glob\n",
    "import matplotlib.pyplot as plt\n",
    "import os\n",
    "import random\n",
    "import cv2\n",
    "\n",
    "import gzip\n",
    "import nibabel as nb"
   ]
  },
  {
   "cell_type": "code",
   "execution_count": 2,
   "metadata": {},
   "outputs": [],
   "source": [
    "MriFiles = glob('/Volumes/DISK_IMG/10*/*T1w.nii.gz')\n",
    "SosFiles = glob('/Volumes/DISK_IMG/10*/*Vp.nii.gz')\n",
    "\n",
    "MriIm = [] # array of full images containing header and data of MRIs\n",
    "MriHdr = [] # array of only the headers of MRIs\n",
    "MriData = [] # array of only the data of MRIs\n",
    "\n",
    "# similarly, for speed of sound maps\n",
    "SosIm = []\n",
    "SosHdr = []\n",
    "SosData = []\n",
    "for i in range(len(MriFiles)):\n",
    "    MriIm.append(nb.load(MriFiles[i]))\n",
    "    MriHdr.append(MriIm[i].header)\n",
    "    MriData.append(MriIm[i].get_fdata())\n",
    "\n",
    "    SosIm.append(nb.load(SosFiles[i]))\n",
    "    SosHdr.append(SosIm[i].header)\n",
    "    SosData.append(SosIm[i].get_fdata())"
   ]
  },
  {
   "cell_type": "code",
   "execution_count": 3,
   "metadata": {},
   "outputs": [
    {
     "name": "stdout",
     "output_type": "stream",
     "text": [
      "1600\n"
     ]
    }
   ],
   "source": [
    "# put all the scans of all MRIs as members of a dataframe so that each cell of each row is a whole image\n",
    "MriDf = pd.DataFrame()\n",
    "for scan in range(len(MriData)):\n",
    "    Mri = MriData[scan]\n",
    "    for slice in range(len(Mri[1,1,:])):\n",
    "        temp = {'img' : [Mri[:,:,slice]]}\n",
    "        tempDf = pd.DataFrame.from_records(temp)\n",
    "        MriDf = MriDf.append(tempDf)\n",
    "print(MriDf.shape[0])"
   ]
  },
  {
   "cell_type": "code",
   "execution_count": 5,
   "metadata": {},
   "outputs": [
    {
     "name": "stdout",
     "output_type": "stream",
     "text": [
      "1600\n"
     ]
    }
   ],
   "source": [
    "# same for SoS\n",
    "SosDf = pd.DataFrame()\n",
    "for scan in range(len(SosData)):\n",
    "    Sos = SosData[scan]\n",
    "    for slice in range(len(Sos[1,1,:])):\n",
    "        temp = {'img' : [Sos[:,:,slice]]}\n",
    "        tempDf = pd.DataFrame.from_records(temp)\n",
    "        SosDf = SosDf.append(tempDf)\n",
    "print(SosDf.shape[0])"
   ]
  },
  {
   "cell_type": "code",
   "execution_count": 6,
   "metadata": {},
   "outputs": [],
   "source": [
    "# must vectorize each cell of the df (each (n,m) matrix) so structure is:\n",
    "# X has form (n.m, 2) (col of 1s and col of values)\n",
    "# y has form (n.m, 1)\n",
    "vec_MriDf = pd.DataFrame()\n",
    "for row in range(MriDf.shape[0]):\n",
    "    temp = pd.DataFrame({'' : np.array([[MriDf.iloc[row][0].flatten()]]).tolist()})\n",
    "    vec_MriDf = pd.concat([vec_MriDf,temp])\n"
   ]
  },
  {
   "cell_type": "code",
   "execution_count": 7,
   "metadata": {},
   "outputs": [],
   "source": [
    "# same for Sos\n",
    "vec_SosDf = pd.DataFrame()\n",
    "for row in range(SosDf.shape[0]):\n",
    "    temp = pd.DataFrame({'' : np.array([[SosDf.iloc[row][0].flatten()]]).tolist()})\n",
    "    vec_SosDf = pd.concat([vec_SosDf,temp])"
   ]
  },
  {
   "cell_type": "code",
   "execution_count": 55,
   "metadata": {},
   "outputs": [
    {
     "data": {
      "text/html": [
       "<div>\n",
       "<style scoped>\n",
       "    .dataframe tbody tr th:only-of-type {\n",
       "        vertical-align: middle;\n",
       "    }\n",
       "\n",
       "    .dataframe tbody tr th {\n",
       "        vertical-align: top;\n",
       "    }\n",
       "\n",
       "    .dataframe thead th {\n",
       "        text-align: right;\n",
       "    }\n",
       "</style>\n",
       "<table border=\"1\" class=\"dataframe\">\n",
       "  <thead>\n",
       "    <tr style=\"text-align: right;\">\n",
       "      <th></th>\n",
       "      <th>MRI</th>\n",
       "      <th>SoS</th>\n",
       "    </tr>\n",
       "  </thead>\n",
       "  <tbody>\n",
       "    <tr>\n",
       "      <th>0</th>\n",
       "      <td>[[32.05524826049805, 72.65767669677734, 19.232...</td>\n",
       "      <td>[[1480.0, 1480.0, 1480.0, 1480.0, 1480.0, 1480...</td>\n",
       "    </tr>\n",
       "    <tr>\n",
       "      <th>0</th>\n",
       "      <td>[[32.053810119628906, 45.943233489990234, 26.7...</td>\n",
       "      <td>[[1480.0, 1480.0, 1480.0, 1480.0, 1480.0, 1480...</td>\n",
       "    </tr>\n",
       "    <tr>\n",
       "      <th>0</th>\n",
       "      <td>[[38.461997985839844, 54.48716354370117, 16.02...</td>\n",
       "      <td>[[1480.0, 1480.0, 1480.0, 1480.0, 1480.0, 1480...</td>\n",
       "    </tr>\n",
       "    <tr>\n",
       "      <th>0</th>\n",
       "      <td>[[19.22929573059082, 53.4140510559082, 41.6621...</td>\n",
       "      <td>[[1480.0, 1480.0, 1480.0, 1480.0, 1480.0, 1480...</td>\n",
       "    </tr>\n",
       "    <tr>\n",
       "      <th>0</th>\n",
       "      <td>[[11.749947547912598, 24.567768096923828, 25.6...</td>\n",
       "      <td>[[1480.0, 1480.0, 1480.0, 1480.0, 1480.0, 1480...</td>\n",
       "    </tr>\n",
       "  </tbody>\n",
       "</table>\n",
       "</div>"
      ],
      "text/plain": [
       "                                                 MRI  \\\n",
       "0  [[32.05524826049805, 72.65767669677734, 19.232...   \n",
       "0  [[32.053810119628906, 45.943233489990234, 26.7...   \n",
       "0  [[38.461997985839844, 54.48716354370117, 16.02...   \n",
       "0  [[19.22929573059082, 53.4140510559082, 41.6621...   \n",
       "0  [[11.749947547912598, 24.567768096923828, 25.6...   \n",
       "\n",
       "                                                 SoS  \n",
       "0  [[1480.0, 1480.0, 1480.0, 1480.0, 1480.0, 1480...  \n",
       "0  [[1480.0, 1480.0, 1480.0, 1480.0, 1480.0, 1480...  \n",
       "0  [[1480.0, 1480.0, 1480.0, 1480.0, 1480.0, 1480...  \n",
       "0  [[1480.0, 1480.0, 1480.0, 1480.0, 1480.0, 1480...  \n",
       "0  [[1480.0, 1480.0, 1480.0, 1480.0, 1480.0, 1480...  "
      ]
     },
     "execution_count": 55,
     "metadata": {},
     "output_type": "execute_result"
    }
   ],
   "source": [
    "# we need to make a super dataframe with both cos we'll separate them to train the model but we want them to be divided the same way\n",
    "# eg. if MRI#2 is in training, SoS#2 also has to be there\n",
    "df = pd.concat([vec_MriDf, vec_SosDf], axis=1)\n",
    "df.columns = ['MRI','SoS']\n",
    "df.head()"
   ]
  },
  {
   "cell_type": "code",
   "execution_count": 56,
   "metadata": {},
   "outputs": [
    {
     "name": "stdout",
     "output_type": "stream",
     "text": [
      "(1120, 2)\n"
     ]
    },
    {
     "data": {
      "text/html": [
       "<div>\n",
       "<style scoped>\n",
       "    .dataframe tbody tr th:only-of-type {\n",
       "        vertical-align: middle;\n",
       "    }\n",
       "\n",
       "    .dataframe tbody tr th {\n",
       "        vertical-align: top;\n",
       "    }\n",
       "\n",
       "    .dataframe thead th {\n",
       "        text-align: right;\n",
       "    }\n",
       "</style>\n",
       "<table border=\"1\" class=\"dataframe\">\n",
       "  <thead>\n",
       "    <tr style=\"text-align: right;\">\n",
       "      <th></th>\n",
       "      <th>MRI</th>\n",
       "      <th>SoS</th>\n",
       "    </tr>\n",
       "  </thead>\n",
       "  <tbody>\n",
       "    <tr>\n",
       "      <th>0</th>\n",
       "      <td>[[4.641510009765625, 24.35289764404297, 17.378...</td>\n",
       "      <td>[[1480.0, 1480.0, 1480.0, 1480.0, 1480.0, 1480...</td>\n",
       "    </tr>\n",
       "    <tr>\n",
       "      <th>0</th>\n",
       "      <td>[[45.77377700805664, 49.28479766845703, 50.442...</td>\n",
       "      <td>[[1480.0, 1480.0, 1480.0, 1480.0, 1480.0, 1480...</td>\n",
       "    </tr>\n",
       "    <tr>\n",
       "      <th>0</th>\n",
       "      <td>[[59.653480529785156, 4.064392566680908, 29.77...</td>\n",
       "      <td>[[1480.0, 1480.0, 1480.0, 1480.0, 1480.0, 1480...</td>\n",
       "    </tr>\n",
       "    <tr>\n",
       "      <th>0</th>\n",
       "      <td>[[21.418109893798828, 33.20078659057617, 49.27...</td>\n",
       "      <td>[[1480.0, 1480.0, 1480.0, 1480.0, 1480.0, 1480...</td>\n",
       "    </tr>\n",
       "    <tr>\n",
       "      <th>0</th>\n",
       "      <td>[[63.84263610839844, 12.27415943145752, 14.723...</td>\n",
       "      <td>[[1480.0, 1480.0, 1480.0, 1480.0, 1480.0, 1480...</td>\n",
       "    </tr>\n",
       "  </tbody>\n",
       "</table>\n",
       "</div>"
      ],
      "text/plain": [
       "                                                 MRI  \\\n",
       "0  [[4.641510009765625, 24.35289764404297, 17.378...   \n",
       "0  [[45.77377700805664, 49.28479766845703, 50.442...   \n",
       "0  [[59.653480529785156, 4.064392566680908, 29.77...   \n",
       "0  [[21.418109893798828, 33.20078659057617, 49.27...   \n",
       "0  [[63.84263610839844, 12.27415943145752, 14.723...   \n",
       "\n",
       "                                                 SoS  \n",
       "0  [[1480.0, 1480.0, 1480.0, 1480.0, 1480.0, 1480...  \n",
       "0  [[1480.0, 1480.0, 1480.0, 1480.0, 1480.0, 1480...  \n",
       "0  [[1480.0, 1480.0, 1480.0, 1480.0, 1480.0, 1480...  \n",
       "0  [[1480.0, 1480.0, 1480.0, 1480.0, 1480.0, 1480...  \n",
       "0  [[1480.0, 1480.0, 1480.0, 1480.0, 1480.0, 1480...  "
      ]
     },
     "execution_count": 56,
     "metadata": {},
     "output_type": "execute_result"
    }
   ],
   "source": [
    "# lets do 70% train, 15% test, 15% eval\n",
    "df_train = pd.DataFrame()\n",
    "train_indices = []\n",
    "for i in range(int(0.7*df.shape[0])):\n",
    "    # get 70% of the set for training from the whole thing randomly\n",
    "    r = random.randint(0, df.shape[0]) \n",
    "    train_indices.append(r)\n",
    "    df_train = df_train.append(df.iloc[r])\n",
    "print(df_train.shape)\n",
    "df_train.head()"
   ]
  },
  {
   "cell_type": "code",
   "execution_count": 66,
   "metadata": {},
   "outputs": [
    {
     "name": "stdout",
     "output_type": "stream",
     "text": [
      "Number of test images: 240\n",
      "Number of eval images: 240\n"
     ]
    }
   ],
   "source": [
    "# get the stuff that isnt in train\n",
    "# dataframe1[~dataframe1.column1.isin(common.column1)]\n",
    "df_test = pd.DataFrame()\n",
    "test_indices = []\n",
    "while df_test.shape[0] < 0.15*df.shape[0]:\n",
    "    r = random.randint(0, df.shape[0]-1)\n",
    "\n",
    "    if(r not in train_indices): \n",
    "        test_indices.append(r)\n",
    "        df_test = df_test.append(df.iloc[r])\n",
    "print(\"Number of test images: \" + str(df_test.shape[0]))\n",
    "\n",
    "df_eval = pd.DataFrame()\n",
    "# for i in range(int(0.15*df.shape[0])):\n",
    "while df_eval.shape[0] < 0.15*df.shape[0]:\n",
    "    r = random.randint(0, df.shape[0]-1)\n",
    "\n",
    "    if(r not in train_indices) and (r not in test_indices) :\n",
    "        df_eval = df_eval.append(df.iloc[r])\n",
    "print(\"Number of eval images: \" + str(df_eval.shape[0]))\n"
   ]
  },
  {
   "cell_type": "code",
   "execution_count": null,
   "metadata": {},
   "outputs": [],
   "source": []
  },
  {
   "cell_type": "code",
   "execution_count": null,
   "metadata": {},
   "outputs": [],
   "source": []
  }
 ],
 "metadata": {
  "interpreter": {
   "hash": "aee8b7b246df8f9039afb4144a1f6fd8d2ca17a180786b69acc140d282b71a49"
  },
  "kernelspec": {
   "display_name": "Python 3.8.1 64-bit",
   "name": "python3"
  },
  "language_info": {
   "codemirror_mode": {
    "name": "ipython",
    "version": 3
   },
   "file_extension": ".py",
   "mimetype": "text/x-python",
   "name": "python",
   "nbconvert_exporter": "python",
   "pygments_lexer": "ipython3",
   "version": "3.8.1"
  },
  "orig_nbformat": 4
 },
 "nbformat": 4,
 "nbformat_minor": 2
}
