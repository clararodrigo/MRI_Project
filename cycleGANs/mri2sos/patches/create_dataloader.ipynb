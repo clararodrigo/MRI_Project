{
 "cells": [
  {
   "cell_type": "code",
   "execution_count": 32,
   "metadata": {},
   "outputs": [],
   "source": [
    "import numpy as np\n",
    "import random\n",
    "\n",
    "import torch\n",
    "import torch.nn as nn\n",
    "import torchvision.utils as vutils\n",
    "import torchvision.datasets as dset\n",
    "import torchvision.transforms as transforms\n",
    "import matplotlib.pylab as plt\n",
    "\n",
    "import glob\n",
    "from glob import glob\n",
    "import nibabel as nb\n",
    "\n",
    "import gzip\n",
    "import os\n",
    "\n",
    "import cv2"
   ]
  },
  {
   "cell_type": "code",
   "execution_count": 17,
   "metadata": {},
   "outputs": [],
   "source": [
    "# MriFiles = glob(r\"C:\\Users\\Xiaowei\\Documents\\MRI_Vols\\*\\*T1w.npy.gz\")\n",
    "# SosFiles = glob(r\"C:\\Users\\Xiaowei\\Documents\\MRI_Vols\\*\\*Vp.npy.gz\")\n",
    "\n",
    "# images = []\n",
    "# for i in range(len(MriFiles)):\n",
    "#     f1 = gzip.GzipFile(MriFiles[i], \"r\") # file type is now gzip.GzipFile\n",
    "#     data1 = np.load(f1)\n",
    "#     img1 = nb.Nifti1Image(data1,None)\n",
    "#     img1.header.get_xyzt_units()\n",
    "#     img1.to_filename(os.path.join('build', MriFiles[i].replace('.npy','.nii')))  # Save as NiBabel file\n",
    "\n",
    "#     f2 = gzip.GzipFile(SosFiles[i], \"r\") # file type is now gzip.GzipFile\n",
    "#     data2 = np.load(f2)\n",
    "#     img2 = nb.Nifti1Image(data2,None)\n",
    "#     img2.header.get_xyzt_units()\n",
    "#     img2.to_filename(os.path.join('build', SosFiles[i].replace('.npy','.nii')))  # Save as NiBabel file"
   ]
  },
  {
   "cell_type": "code",
   "execution_count": 18,
   "metadata": {},
   "outputs": [
    {
     "name": "stdout",
     "output_type": "stream",
     "text": [
      "Number of MRIs: 5\n",
      "Number of SoS images: 5\n"
     ]
    }
   ],
   "source": [
    "mri_files = glob(r\"C:\\Users\\Xiaowei\\Documents\\MRI_Vols\\*\\*_T1w.nii.gz\")\n",
    "sos_files = glob(r\"C:\\Users\\Xiaowei\\Documents\\MRI_Vols\\*\\Vp.nii.gz\")\n",
    "print(\"Number of MRIs: \"+str(len(mri_files)))\n",
    "print(\"Number of SoS images: \"+str(len(sos_files)))"
   ]
  },
  {
   "cell_type": "code",
   "execution_count": 19,
   "metadata": {},
   "outputs": [],
   "source": [
    "def create_sections(mri_im, sos_im, labels):\n",
    "  [slice,y0,y1,x0,x1] = labels.split(',')\n",
    "  temp_m = np.array(mri_im[:,:,int(slice)][int(y0):int(y1),int(x0):int(x1)])\n",
    "  temp_s = np.array(sos_im[:,:,int(slice)][int(y0):int(y1),int(x0):int(x1)])\n",
    "\n",
    "  return [temp_m, temp_s]"
   ]
  },
  {
   "cell_type": "code",
   "execution_count": 21,
   "metadata": {},
   "outputs": [
    {
     "name": "stdout",
     "output_type": "stream",
     "text": [
      "Full dataset: (9000, 2, 64, 64)\n",
      "Brain-containing images: 7199\n"
     ]
    }
   ],
   "source": [
    "sections = []\n",
    "brain_sections = []\n",
    "size = 64\n",
    "for f in range(len(mri_files)):\n",
    "    mri_data = nb.load(mri_files[f]).get_fdata()\n",
    "    sos_data = nb.load(sos_files[f]).get_fdata()\n",
    "\n",
    "    # extracting regions of whole image\n",
    "    n=0\n",
    "    slice = [i for i in range(130,220)]\n",
    "    for s in slice:\n",
    "        for n in range(0,int(mri_data.shape[0]/size)):\n",
    "            for k in range(0,int(mri_data.shape[2]/size)):\n",
    "                sections.append(create_sections(mri_data,sos_data,str(s)+\",\"+str(n*size)+\",\"+str(n*size+size)+','+str(k*size)+\",\"+str(k*size+size)))\n",
    "            \n",
    "# extracting the brain patches\n",
    "for i in range(len(sections)):\n",
    "    if(i%5==0 or (i-4)==5): continue\n",
    "    else: brain_sections.append(sections[i])\n",
    "\n",
    "print(\"Full dataset: \" +str(np.array(sections).shape))\n",
    "print(\"Brain-containing images: \" +str(len(brain_sections)))"
   ]
  },
  {
   "cell_type": "code",
   "execution_count": 38,
   "metadata": {},
   "outputs": [],
   "source": [
    "for i in range(len(brain_sections)):\n",
    "    cv2.imwrite(r'C:\\Users\\Xiaowei\\Desktop\\Clara\\CycleGAN\\mri2sos_dataset\\A\\mri_img'+str(i)+'.jpg', brain_sections[i][0])\n",
    "    cv2.imwrite(r'C:\\Users\\Xiaowei\\Desktop\\Clara\\CycleGAN\\mri2sos_dataset\\B\\sos_img'+str(i)+'.jpg', brain_sections[i][1])"
   ]
  },
  {
   "cell_type": "code",
   "execution_count": null,
   "metadata": {},
   "outputs": [],
   "source": []
  }
 ],
 "metadata": {
  "interpreter": {
   "hash": "d1f151da9e3a23d232b767075dd82824ea8a6ff10dd95792422a2079b877f767"
  },
  "kernelspec": {
   "display_name": "Python 3.9.10 64-bit (windows store)",
   "language": "python",
   "name": "python3"
  },
  "language_info": {
   "codemirror_mode": {
    "name": "ipython",
    "version": 3
   },
   "file_extension": ".py",
   "mimetype": "text/x-python",
   "name": "python",
   "nbconvert_exporter": "python",
   "pygments_lexer": "ipython3",
   "version": "3.9.10"
  },
  "orig_nbformat": 4
 },
 "nbformat": 4,
 "nbformat_minor": 2
}
